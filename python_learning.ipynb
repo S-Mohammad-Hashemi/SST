{
 "cells": [
  {
   "cell_type": "code",
   "execution_count": 48,
   "metadata": {},
   "outputs": [],
   "source": [
    "import sys\n",
    "import time\n",
    "from __future__ import print_function"
   ]
  },
  {
   "cell_type": "code",
   "execution_count": 43,
   "metadata": {},
   "outputs": [
    {
     "name": "stdout",
     "output_type": "stream",
     "text": [
      "990%                                                                                                  \n",
      "2.16623306274\n"
     ]
    }
   ],
   "source": [
    "st = time.time()\n",
    "for i in range(0,1000,10):\n",
    "    print '\\b',\n",
    "    print '\\r'+`i`+'%',\n",
    "    sys.stdout.flush()\n",
    "    time.sleep(0.02)\n",
    "    if i==999:\n",
    "        break\n",
    "    \n",
    "print ''\n",
    "print time.time()-st"
   ]
  },
  {
   "cell_type": "code",
   "execution_count": 6,
   "metadata": {},
   "outputs": [
    {
     "name": "stdout",
     "output_type": "stream",
     "text": [
      "9  10  11  12  13  14  15  16  17  18  19  20  21  22  23  24  25  26  27  28  29  30  31  32  33  34  35  36  37  38  39  40  41  42  43  44  45  46  47  48  49  50  51  52  53  54  55  56  57  58  59  60  61  62  63  64  65  66  67  68  69  70  71  72  73  74  75  76  77  78  79  80  81  82  83  84  85  86  87  88  89  90  91  92  93  94  95  96  97  98  9  100%"
     ]
    }
   ],
   "source": [
    "import time\n",
    "import sys\n",
    "\n",
    "\n",
    "def update_pct(w_str):\n",
    "    w_str = str(w_str)\n",
    "    sys.stdout.write(\"\\b\" * len(w_str))\n",
    "    sys.stdout.write(\" \" * len(w_str))\n",
    "    sys.stdout.write(\"\\b\" * len(w_str))\n",
    "    sys.stdout.write(w_str)\n",
    "    sys.stdout.flush()\n",
    "\n",
    "for pct in range(0, 101):\n",
    "    update_pct(\"{n}%\".format(n=str(pct)))\n",
    "    time.sleep(0.02)"
   ]
  },
  {
   "cell_type": "code",
   "execution_count": 51,
   "metadata": {},
   "outputs": [
    {
     "ename": "SyntaxError",
     "evalue": "invalid syntax (<ipython-input-51-6bca6740841a>, line 5)",
     "output_type": "error",
     "traceback": [
      "\u001b[0;36m  File \u001b[0;32m\"<ipython-input-51-6bca6740841a>\"\u001b[0;36m, line \u001b[0;32m5\u001b[0m\n\u001b[0;31m    print '\\b',\u001b[0m\n\u001b[0m             ^\u001b[0m\n\u001b[0;31mSyntaxError\u001b[0m\u001b[0;31m:\u001b[0m invalid syntax\n"
     ]
    }
   ],
   "source": [
    "total_batch = 100\n",
    "loss_np =  0.2323\n",
    "for ep in range(100):\n",
    "    for i in range(1):\n",
    "        print '\\b',\n",
    "        print '\\r'+'epoch: '+str(ep)+' iter: '+str(i)+'/'+str(total_batch)+' loss: '+str(loss_np),\n",
    "        sys.stdout.flush()\n",
    "        time.sleep(0.02)"
   ]
  },
  {
   "cell_type": "code",
   "execution_count": null,
   "metadata": {},
   "outputs": [],
   "source": [
    "for i in range(100):\n",
    "    print('\\rhello '+str(i),end='')\n",
    "    time.sleep(0.1)"
   ]
  },
  {
   "cell_type": "code",
   "execution_count": null,
   "metadata": {},
   "outputs": [],
   "source": [
    "import time\n",
    "\n",
    "# status generator\n",
    "def range_with_status(total):\n",
    "    \"\"\" iterate from 0 to total and show progress in console \"\"\"\n",
    "    n=0\n",
    "    while n<total:\n",
    "        done = '#'*(n+1)\n",
    "        todo = '-'*(total-n-1)\n",
    "        s = '<{0}>'.format(done+todo)\n",
    "        if not todo:\n",
    "            s+='\\n'        \n",
    "        if n>0:\n",
    "            s = '\\r'+s\n",
    "        print(s, end='')\n",
    "        yield n\n",
    "        n+=1\n",
    "\n",
    "# example for use of status generator\n",
    "for i in range_with_status(100):\n",
    "    time.sleep(0.1)"
   ]
  },
  {
   "cell_type": "code",
   "execution_count": 53,
   "metadata": {},
   "outputs": [
    {
     "ename": "SyntaxError",
     "evalue": "invalid syntax (<ipython-input-53-0a88bccdc3dc>, line 1)",
     "output_type": "error",
     "traceback": [
      "\u001b[0;36m  File \u001b[0;32m\"<ipython-input-53-0a88bccdc3dc>\"\u001b[0;36m, line \u001b[0;32m1\u001b[0m\n\u001b[0;31m    print \"0.2f\".format(23.343434)\u001b[0m\n\u001b[0m               ^\u001b[0m\n\u001b[0;31mSyntaxError\u001b[0m\u001b[0;31m:\u001b[0m invalid syntax\n"
     ]
    }
   ],
   "source": []
  },
  {
   "cell_type": "code",
   "execution_count": null,
   "metadata": {},
   "outputs": [],
   "source": []
  }
 ],
 "metadata": {
  "kernelspec": {
   "display_name": "Python 2",
   "language": "python",
   "name": "python2"
  },
  "language_info": {
   "codemirror_mode": {
    "name": "ipython",
    "version": 2
   },
   "file_extension": ".py",
   "mimetype": "text/x-python",
   "name": "python",
   "nbconvert_exporter": "python",
   "pygments_lexer": "ipython2",
   "version": "2.7.15"
  }
 },
 "nbformat": 4,
 "nbformat_minor": 2
}
