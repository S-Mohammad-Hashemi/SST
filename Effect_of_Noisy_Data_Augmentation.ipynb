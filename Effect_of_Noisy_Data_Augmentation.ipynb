{
 "cells": [
  {
   "cell_type": "code",
   "execution_count": 1,
   "metadata": {},
   "outputs": [],
   "source": [
    "# import sys,os\n",
    "##### Change \"0\" to GPU device number you want to use if you have multiple GPU devices\n",
    "# os.environ['CUDA_VISIBLE_DEVICES'] =\"0\" "
   ]
  },
  {
   "cell_type": "code",
   "execution_count": 2,
   "metadata": {},
   "outputs": [],
   "source": [
    "%load_ext autoreload\n",
    "%autoreload 2\n",
    "import matplotlib.pyplot as plt\n",
    "%matplotlib inline\n",
    "plt.rcParams['image.interpolation'] = 'nearest'\n",
    "plt.rcParams['image.cmap'] = 'gray'\n"
   ]
  },
  {
   "cell_type": "code",
   "execution_count": 3,
   "metadata": {},
   "outputs": [],
   "source": [
    "import tensorflow as tf\n",
    "import numpy as np\n",
    "import aux_functions as af\n",
    "import models as Mo\n",
    "from attack import Attack\n",
    "import sys\n",
    "import time"
   ]
  },
  {
   "cell_type": "code",
   "execution_count": 4,
   "metadata": {},
   "outputs": [],
   "source": [
    "x_train,y_train,x_test,y_test = af.load_mnist_dataset()"
   ]
  },
  {
   "cell_type": "code",
   "execution_count": 5,
   "metadata": {},
   "outputs": [
    {
     "name": "stdout",
     "output_type": "stream",
     "text": [
      "Sample Images ...\n"
     ]
    },
    {
     "data": {
      "image/png": "[encoded data removed]",
      "text/plain": [
       "<Figure size 432x288 with 10 Axes>"
      ]
     },
     "metadata": {
      "needs_background": "light"
     },
     "output_type": "display_data"
    }
   ],
   "source": [
    "print 'Sample Images ...'\n",
    "for i in range(10):\n",
    "    plt.subplot(2,5,i+1)\n",
    "    plt.imshow(x_test[i,:,:,0])"
   ]
  },
  {
   "cell_type": "code",
   "execution_count": 6,
   "metadata": {},
   "outputs": [
    {
     "name": "stdout",
     "output_type": "stream",
     "text": [
      "INFO:tensorflow:Restoring parameters from ./target_model_cnn2\n",
      "model accuracy is: 0.9937\n"
     ]
    }
   ],
   "source": [
    "tf.reset_default_graph()\n",
    "sess = tf.InteractiveSession(config=tf.ConfigProto(allow_soft_placement=True))\n",
    "x = tf.placeholder(tf.float32,[None,28,28,1])\n",
    "y = tf.placeholder(tf.float32,[None,10])\n",
    "target_model = Mo.SimpleCNN2(x,y,sess,var_scope='simpleCNN2',path = './target_model_cnn2')\n",
    "target_model.test_model(x_test,y_test)\n",
    "sub_model = Mo.SimpleCNN3(x,y,sess,var_scope='simpleCNN3_1')\n",
    "sub_model2 = Mo.SimpleCNN3(x,y,sess,var_scope='SimpleCNN3_2')"
   ]
  },
  {
   "cell_type": "code",
   "execution_count": 7,
   "metadata": {},
   "outputs": [
    {
     "name": "stdout",
     "output_type": "stream",
     "text": [
      "epoch: 1400/1400 iter: 0/1 loss: 2.2253 \n",
      "epoch: 1400/1400 iter: 0/1 loss: 0.4076 \n",
      "epoch: 1400/1400 iter: 0/1 loss: 0.3365 \n"
     ]
    }
   ],
   "source": [
    "##### Training with noisy data augmentation (SST)\n",
    "sub_model.SST(x_test[:100],target_model,lr=0.001,nb_epochs=1400,start_range=0,end_range=100,step=5)\n",
    "sub_model.SST(x_test[:100],target_model,lr=0.0001,nb_epochs=1400,start_range=0,end_range=100,step=5)\n",
    "sub_model.SST(x_test[:100],target_model,lr=0.00005,nb_epochs=1400,start_range=0,end_range=100,step=5)"
   ]
  },
  {
   "cell_type": "code",
   "execution_count": 8,
   "metadata": {},
   "outputs": [
    {
     "name": "stdout",
     "output_type": "stream",
     "text": [
      "epoch: 1400/1400 iter: 0/1 loss: 1.0599 \n",
      "epoch: 1400/1400 iter: 0/1 loss: 0.0012 \n",
      "epoch: 1400/1400 iter: 0/1 loss: 0.0003 \n"
     ]
    }
   ],
   "source": [
    "##### Training without noisy data augmentation\n",
    "sub_model2.SST(x_test[:100],target_model,lr=0.001,nb_epochs=1400,start_range=0,end_range=0,step=1)\n",
    "sub_model2.SST(x_test[:100],target_model,lr=0.0001,nb_epochs=1400,start_range=0,end_range=0,step=1)\n",
    "sub_model2.SST(x_test[:100],target_model,lr=0.00005,nb_epochs=1400,start_range=0,end_range=0,step=1)"
   ]
  },
  {
   "cell_type": "code",
   "execution_count": 10,
   "metadata": {},
   "outputs": [
    {
     "name": "stdout",
     "output_type": "stream",
     "text": [
      "Accuracy of substitute model with SST:\n",
      "model accuracy is: 0.9712\n",
      "Accuracy of substitute model without SST:\n",
      "model accuracy is: 0.8635\n"
     ]
    }
   ],
   "source": [
    "print 'Accuracy of substitute model with SST:'\n",
    "sub_model.test_model(x_test,y_test)\n",
    "print 'Accuracy of substitute model without SST:'\n",
    "sub_model2.test_model(x_test,y_test)"
   ]
  },
  {
   "cell_type": "code",
   "execution_count": 11,
   "metadata": {},
   "outputs": [
    {
     "name": "stdout",
     "output_type": "stream",
     "text": [
      "Crafting adversarial examples against target model using  SST model ...\n",
      "run: 5/5 iter: 500/500 success rate: 1.0000 \n",
      "Total attack time: 100.724849939\n",
      "Success Rate:  1.0\n",
      "AVG L2 norm of crafted Adv. Examples: 1.5699530048199006\n",
      "Sample Adv. Examples ...\n"
     ]
    },
    {
     "data": {
      "image/png": "[encoded data removed]",
      "text/plain": [
       "<Figure size 432x288 with 10 Axes>"
      ]
     },
     "metadata": {
      "needs_background": "light"
     },
     "output_type": "display_data"
    }
   ],
   "source": [
    "print 'Crafting adversarial examples against target model using  SST model ...'\n",
    "atk1 = Attack(x,y,[sub_model],target_model,sess,100,lr=0.05)\n",
    "st = time.time()\n",
    "index = 0\n",
    "legit_img = x_test[index:index+100]\n",
    "legit_y = y_test[index:index+100]\n",
    "other_params = {\n",
    "    'total_run':5,\n",
    "    'total_iters':500\n",
    "}\n",
    "adv_img1 = atk1.find_adv(legit_img,legit_y,other_params=other_params)\n",
    "print 'Total attack time:',time.time() - st\n",
    "\n",
    "total_l2=0\n",
    "not_found=0\n",
    "not_found_indices = []\n",
    "dset = adv_img1\n",
    "for i in range(len(dset)):\n",
    "    if np.sum(dset[i])==np.prod(dset.shape[1:])*10:\n",
    "        not_found+=1\n",
    "        not_found_indices.append(i)\n",
    "        continue\n",
    "    total_l2+= np.linalg.norm(x_test[i] - dset[i])\n",
    "print 'Success Rate: ', (len(dset) - not_found)/(len(dset)+0.)\n",
    "print 'AVG L2 norm of crafted Adv. Examples:',total_l2/(100.-not_found)\n",
    "print 'Sample Adv. Examples ...'\n",
    "for i in range(10):\n",
    "    plt.subplot(2,5,i+1)\n",
    "    if dset[i].sum() == np.prod(dset.shape[1:])*10:\n",
    "        plt.imshow(np.zeros((28,28)))\n",
    "    plt.imshow(dset[i].reshape(28,28))"
   ]
  },
  {
   "cell_type": "code",
   "execution_count": 12,
   "metadata": {},
   "outputs": [
    {
     "name": "stdout",
     "output_type": "stream",
     "text": [
      "Crafting adversarial examples against target model using vanilla model ...\n",
      "run: 5/5 iter: 500/500 success rate: 1.0000 \n",
      "Total attack time: 100.618834972\n",
      "Success Rate:  1.0\n",
      "AVG L2 norm of crafted Adv. Examples: 2.982324621683266\n",
      "Sample Adv. Examples ...\n"
     ]
    },
    {
     "data": {
      "image/png": "[encoded data removed]",
      "text/plain": [
       "<Figure size 432x288 with 10 Axes>"
      ]
     },
     "metadata": {
      "needs_background": "light"
     },
     "output_type": "display_data"
    }
   ],
   "source": [
    "print 'Crafting adversarial examples against target model using vanilla model ...'\n",
    "atk2 = Attack(x,y,[sub_model2],target_model,sess,100,lr=0.05)\n",
    "st = time.time()\n",
    "index = 0\n",
    "legit_img = x_test[index:index+100]\n",
    "legit_y = y_test[index:index+100]\n",
    "other_params = {\n",
    "    'total_run':5,\n",
    "    'total_iters':500\n",
    "}\n",
    "adv_img2 = atk2.find_adv(legit_img,legit_y,other_params=other_params)\n",
    "print 'Total attack time:',time.time() - st\n",
    "\n",
    "total_l2=0\n",
    "not_found=0\n",
    "not_found_indices = []\n",
    "dset = adv_img2\n",
    "for i in range(len(dset)):\n",
    "    if np.sum(dset[i])==np.prod(dset.shape[1:])*10:\n",
    "        not_found+=1\n",
    "        not_found_indices.append(i)\n",
    "        continue\n",
    "    total_l2+= np.linalg.norm(x_test[i] - dset[i])\n",
    "print 'Success Rate: ', (len(dset) - not_found)/(len(dset)+0.)\n",
    "print 'AVG L2 norm of crafted Adv. Examples:',total_l2/(100.-not_found)\n",
    "print 'Sample Adv. Examples ...'\n",
    "for i in range(10):\n",
    "    plt.subplot(2,5,i+1)\n",
    "    if dset[i].sum() == np.prod(dset.shape[1:])*10:\n",
    "        plt.imshow(np.zeros((28,28)))\n",
    "    plt.imshow(dset[i].reshape(28,28))"
   ]
  }
 ],
 "metadata": {
  "kernelspec": {
   "display_name": "Python 2",
   "language": "python",
   "name": "python2"
  },
  "language_info": {
   "codemirror_mode": {
    "name": "ipython",
    "version": 2
   },
   "file_extension": ".py",
   "mimetype": "text/x-python",
   "name": "python",
   "nbconvert_exporter": "python",
   "pygments_lexer": "ipython2",
   "version": "2.7.15"
  }
 },
 "nbformat": 4,
 "nbformat_minor": 2
}
